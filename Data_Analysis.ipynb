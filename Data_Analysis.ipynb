{
 "cells": [
  {
   "cell_type": "markdown",
   "id": "35b88995",
   "metadata": {},
   "source": [
    "# 11-04-2022 (DATA ANALYSTICS)\n"
   ]
  },
  {
   "cell_type": "code",
   "execution_count": 1,
   "id": "cbd6d6dc",
   "metadata": {},
   "outputs": [],
   "source": [
    "#DATA ANALYSTICS LIBRARY----->\n",
    "#1.NUMPY------>NUMERICAL PYTHON----->1.ARRAY, 2.MATRIX, 3.TRANSPOSE, 4.\n",
    "#2.PANDAS----->PANEL DATA----->\n",
    "#3.MATPLOTLIB\n",
    "#4.SEABORN"
   ]
  },
  {
   "cell_type": "markdown",
   "id": "7603ff1f",
   "metadata": {},
   "source": [
    "# 1.PANDAS--->2.MINI PROJECT"
   ]
  },
  {
   "cell_type": "markdown",
   "id": "b66a0427",
   "metadata": {},
   "source": [
    "# 2.MATPLOTLIB & SEABORN------> 1. MINI PROJECT + PANDAS+MAT+SEABORN"
   ]
  },
  {
   "cell_type": "markdown",
   "id": "51d3b996",
   "metadata": {},
   "source": [
    "# 3. DATA PREPROCESSING, DATA WRANGLING, OPERATION ON DATA, DESCRIBE THE DATA"
   ]
  },
  {
   "cell_type": "markdown",
   "id": "a87d83c6",
   "metadata": {},
   "source": [
    "# START---->DESCRIPTIVE START/ INFRENTIAL STARTS"
   ]
  },
  {
   "cell_type": "markdown",
   "id": "8982023e",
   "metadata": {},
   "source": [
    "# 1.MAJOR PROJECT"
   ]
  },
  {
   "cell_type": "markdown",
   "id": "4b436150",
   "metadata": {},
   "source": [
    "# 12-04-2022 (NUMPY)\n"
   ]
  },
  {
   "cell_type": "code",
   "execution_count": 2,
   "id": "2a336300",
   "metadata": {},
   "outputs": [],
   "source": [
    "#numpy----- array\n",
    "import numpy as np"
   ]
  },
  {
   "cell_type": "code",
   "execution_count": 3,
   "id": "73fc3bd3",
   "metadata": {},
   "outputs": [
    {
     "data": {
      "text/plain": [
       "array([1, 2, 3, 4, 5, 6, 7, 8, 9])"
      ]
     },
     "execution_count": 3,
     "metadata": {},
     "output_type": "execute_result"
    }
   ],
   "source": [
    "#array---->\n",
    "a = np.array([1,2,3,4,5,6,7,8,9])\n",
    "a"
   ]
  },
  {
   "cell_type": "code",
   "execution_count": 4,
   "id": "a1c60220",
   "metadata": {},
   "outputs": [
    {
     "data": {
      "text/plain": [
       "numpy.ndarray"
      ]
     },
     "execution_count": 4,
     "metadata": {},
     "output_type": "execute_result"
    }
   ],
   "source": [
    "#type function\n",
    "type(a)"
   ]
  },
  {
   "cell_type": "code",
   "execution_count": 5,
   "id": "51bf278c",
   "metadata": {},
   "outputs": [
    {
     "data": {
      "text/plain": [
       "1"
      ]
     },
     "execution_count": 5,
     "metadata": {},
     "output_type": "execute_result"
    }
   ],
   "source": [
    "#ndim\n",
    "a.ndim"
   ]
  },
  {
   "cell_type": "code",
   "execution_count": 6,
   "id": "4c355a57",
   "metadata": {},
   "outputs": [
    {
     "data": {
      "text/plain": [
       "(9,)"
      ]
     },
     "execution_count": 6,
     "metadata": {},
     "output_type": "execute_result"
    }
   ],
   "source": [
    "a.shape"
   ]
  },
  {
   "cell_type": "code",
   "execution_count": 7,
   "id": "848d5291",
   "metadata": {},
   "outputs": [
    {
     "data": {
      "text/plain": [
       "9"
      ]
     },
     "execution_count": 7,
     "metadata": {},
     "output_type": "execute_result"
    }
   ],
   "source": [
    "a.size"
   ]
  },
  {
   "cell_type": "code",
   "execution_count": 8,
   "id": "e18667da",
   "metadata": {},
   "outputs": [
    {
     "data": {
      "text/plain": [
       "array([1, 2, 3, 4, 5, 6, 7, 8, 9])"
      ]
     },
     "execution_count": 8,
     "metadata": {},
     "output_type": "execute_result"
    }
   ],
   "source": [
    "#shape and size\n",
    "a"
   ]
  },
  {
   "cell_type": "code",
   "execution_count": 9,
   "id": "eddc7c91",
   "metadata": {},
   "outputs": [
    {
     "data": {
      "text/plain": [
       "(9,)"
      ]
     },
     "execution_count": 9,
     "metadata": {},
     "output_type": "execute_result"
    }
   ],
   "source": [
    "a.shape"
   ]
  },
  {
   "cell_type": "code",
   "execution_count": 10,
   "id": "0e56c767",
   "metadata": {},
   "outputs": [
    {
     "data": {
      "text/plain": [
       "9"
      ]
     },
     "execution_count": 10,
     "metadata": {},
     "output_type": "execute_result"
    }
   ],
   "source": [
    "a.size"
   ]
  },
  {
   "cell_type": "code",
   "execution_count": 11,
   "id": "b0a78bf7",
   "metadata": {},
   "outputs": [],
   "source": [
    "#2d data\n",
    "x= np.array([[1,2,3,4,5,6,7,8,9]])"
   ]
  },
  {
   "cell_type": "code",
   "execution_count": 12,
   "id": "38c7773a",
   "metadata": {},
   "outputs": [
    {
     "data": {
      "text/plain": [
       "array([[1, 2, 3, 4, 5, 6, 7, 8, 9]])"
      ]
     },
     "execution_count": 12,
     "metadata": {},
     "output_type": "execute_result"
    }
   ],
   "source": [
    "x"
   ]
  },
  {
   "cell_type": "code",
   "execution_count": 13,
   "id": "59349a38",
   "metadata": {},
   "outputs": [
    {
     "data": {
      "text/plain": [
       "(1, 9)"
      ]
     },
     "execution_count": 13,
     "metadata": {},
     "output_type": "execute_result"
    }
   ],
   "source": [
    "x.shape"
   ]
  },
  {
   "cell_type": "code",
   "execution_count": 14,
   "id": "cea04f01",
   "metadata": {},
   "outputs": [
    {
     "data": {
      "text/plain": [
       "2"
      ]
     },
     "execution_count": 14,
     "metadata": {},
     "output_type": "execute_result"
    }
   ],
   "source": [
    "x.ndim"
   ]
  },
  {
   "cell_type": "code",
   "execution_count": 15,
   "id": "a6c74e1d",
   "metadata": {},
   "outputs": [
    {
     "data": {
      "text/plain": [
       "array([[1, 2, 3],\n",
       "       [7, 8, 9]])"
      ]
     },
     "execution_count": 15,
     "metadata": {},
     "output_type": "execute_result"
    }
   ],
   "source": [
    "s = np.array([[1,2,3],[7,8,9]])\n",
    "s"
   ]
  },
  {
   "cell_type": "code",
   "execution_count": 16,
   "id": "4bd9a980",
   "metadata": {},
   "outputs": [
    {
     "data": {
      "text/plain": [
       "(2, 3)"
      ]
     },
     "execution_count": 16,
     "metadata": {},
     "output_type": "execute_result"
    }
   ],
   "source": [
    "s.shape"
   ]
  },
  {
   "cell_type": "code",
   "execution_count": 17,
   "id": "9cbeeace",
   "metadata": {},
   "outputs": [
    {
     "name": "stderr",
     "output_type": "stream",
     "text": [
      "C:\\Users\\ROUSHA~1\\AppData\\Local\\Temp/ipykernel_18480/1468163393.py:1: VisibleDeprecationWarning: Creating an ndarray from ragged nested sequences (which is a list-or-tuple of lists-or-tuples-or ndarrays with different lengths or shapes) is deprecated. If you meant to do this, you must specify 'dtype=object' when creating the ndarray.\n",
      "  s = np.array([[1,2,3],[7,8]])\n"
     ]
    }
   ],
   "source": [
    "s = np.array([[1,2,3],[7,8]])"
   ]
  },
  {
   "cell_type": "code",
   "execution_count": 18,
   "id": "ebf30054",
   "metadata": {},
   "outputs": [
    {
     "data": {
      "text/plain": [
       "numpy.ndarray"
      ]
     },
     "execution_count": 18,
     "metadata": {},
     "output_type": "execute_result"
    }
   ],
   "source": [
    "#check the data type of the array\n",
    "type(s)"
   ]
  },
  {
   "cell_type": "code",
   "execution_count": 19,
   "id": "12aaad12",
   "metadata": {},
   "outputs": [
    {
     "data": {
      "text/plain": [
       "dtype('O')"
      ]
     },
     "execution_count": 19,
     "metadata": {},
     "output_type": "execute_result"
    }
   ],
   "source": [
    "s.dtype"
   ]
  },
  {
   "cell_type": "code",
   "execution_count": 20,
   "id": "dd07d6a5",
   "metadata": {},
   "outputs": [],
   "source": [
    "w = np.array([[1,2,3],[4,5,6]])"
   ]
  },
  {
   "cell_type": "code",
   "execution_count": 21,
   "id": "af833f84",
   "metadata": {},
   "outputs": [
    {
     "data": {
      "text/plain": [
       "dtype('int32')"
      ]
     },
     "execution_count": 21,
     "metadata": {},
     "output_type": "execute_result"
    }
   ],
   "source": [
    "w.dtype"
   ]
  },
  {
   "cell_type": "code",
   "execution_count": 22,
   "id": "bb2b058a",
   "metadata": {},
   "outputs": [
    {
     "data": {
      "text/plain": [
       "2"
      ]
     },
     "execution_count": 22,
     "metadata": {},
     "output_type": "execute_result"
    }
   ],
   "source": [
    "w.ndim"
   ]
  },
  {
   "cell_type": "code",
   "execution_count": 23,
   "id": "7e6b98f7",
   "metadata": {},
   "outputs": [],
   "source": [
    "#3d data\n",
    "v = np.array([[[1,2,3]]])"
   ]
  },
  {
   "cell_type": "code",
   "execution_count": 24,
   "id": "829f1869",
   "metadata": {},
   "outputs": [
    {
     "data": {
      "text/plain": [
       "3"
      ]
     },
     "execution_count": 24,
     "metadata": {},
     "output_type": "execute_result"
    }
   ],
   "source": [
    "v.ndim"
   ]
  },
  {
   "cell_type": "code",
   "execution_count": 25,
   "id": "15d43c91",
   "metadata": {},
   "outputs": [
    {
     "data": {
      "text/plain": [
       "(1, 1, 3)"
      ]
     },
     "execution_count": 25,
     "metadata": {},
     "output_type": "execute_result"
    }
   ],
   "source": [
    "v.shape"
   ]
  },
  {
   "cell_type": "code",
   "execution_count": 26,
   "id": "36b378b1",
   "metadata": {},
   "outputs": [
    {
     "data": {
      "text/plain": [
       "3"
      ]
     },
     "execution_count": 26,
     "metadata": {},
     "output_type": "execute_result"
    }
   ],
   "source": [
    "v.size"
   ]
  },
  {
   "cell_type": "code",
   "execution_count": 27,
   "id": "78106921",
   "metadata": {},
   "outputs": [],
   "source": [
    "v = np.array([[[1,2,3],[4,5,6],[7,8,9]]])"
   ]
  },
  {
   "cell_type": "code",
   "execution_count": 28,
   "id": "a92f7194",
   "metadata": {},
   "outputs": [
    {
     "data": {
      "text/plain": [
       "array([[[1, 2, 3],\n",
       "        [4, 5, 6],\n",
       "        [7, 8, 9]]])"
      ]
     },
     "execution_count": 28,
     "metadata": {},
     "output_type": "execute_result"
    }
   ],
   "source": [
    "v"
   ]
  },
  {
   "cell_type": "code",
   "execution_count": 29,
   "id": "8b8025d3",
   "metadata": {},
   "outputs": [
    {
     "data": {
      "text/plain": [
       "3"
      ]
     },
     "execution_count": 29,
     "metadata": {},
     "output_type": "execute_result"
    }
   ],
   "source": [
    "v.ndim"
   ]
  },
  {
   "cell_type": "code",
   "execution_count": 30,
   "id": "2d1fd644",
   "metadata": {},
   "outputs": [
    {
     "data": {
      "text/plain": [
       "(1, 3, 3)"
      ]
     },
     "execution_count": 30,
     "metadata": {},
     "output_type": "execute_result"
    }
   ],
   "source": [
    "v.shape"
   ]
  },
  {
   "cell_type": "code",
   "execution_count": 31,
   "id": "c412714a",
   "metadata": {},
   "outputs": [
    {
     "data": {
      "text/plain": [
       "9"
      ]
     },
     "execution_count": 31,
     "metadata": {},
     "output_type": "execute_result"
    }
   ],
   "source": [
    "v.size"
   ]
  },
  {
   "cell_type": "code",
   "execution_count": 32,
   "id": "da348b19",
   "metadata": {},
   "outputs": [
    {
     "ename": "SyntaxError",
     "evalue": "closing parenthesis ')' does not match opening parenthesis '[' (Temp/ipykernel_18480/2622285674.py, line 1)",
     "output_type": "error",
     "traceback": [
      "\u001b[1;36m  File \u001b[1;32m\"C:\\Users\\ROUSHA~1\\AppData\\Local\\Temp/ipykernel_18480/2622285674.py\"\u001b[1;36m, line \u001b[1;32m1\u001b[0m\n\u001b[1;33m    a=np.array([[[1,2,3],[1,2,3],[[1,2,3],[1,2,3]])\u001b[0m\n\u001b[1;37m                                                  ^\u001b[0m\n\u001b[1;31mSyntaxError\u001b[0m\u001b[1;31m:\u001b[0m closing parenthesis ')' does not match opening parenthesis '['\n"
     ]
    }
   ],
   "source": [
    "a=np.array([[[1,2,3],[1,2,3],[[1,2,3],[1,2,3]])"
   ]
  },
  {
   "cell_type": "code",
   "execution_count": null,
   "id": "f7a13ee9",
   "metadata": {},
   "outputs": [],
   "source": [
    "#wap and slice with the help of index to the data i.e 45.\n",
    "a=np.array([[1,2,3],[45,78,90]])"
   ]
  },
  {
   "cell_type": "code",
   "execution_count": null,
   "id": "3a2b9992",
   "metadata": {},
   "outputs": [],
   "source": [
    "a"
   ]
  },
  {
   "cell_type": "code",
   "execution_count": null,
   "id": "508670ab",
   "metadata": {},
   "outputs": [],
   "source": [
    "a[1]"
   ]
  },
  {
   "cell_type": "code",
   "execution_count": null,
   "id": "e466e894",
   "metadata": {},
   "outputs": [],
   "source": [
    "a[1][0]"
   ]
  },
  {
   "cell_type": "code",
   "execution_count": null,
   "id": "f5111d54",
   "metadata": {},
   "outputs": [],
   "source": [
    "#numpy----------> zeroes\n",
    "np.zeros(40)"
   ]
  },
  {
   "cell_type": "code",
   "execution_count": null,
   "id": "a328f346",
   "metadata": {},
   "outputs": [],
   "source": [
    "#ones\n",
    "np.ones(100)"
   ]
  },
  {
   "cell_type": "code",
   "execution_count": null,
   "id": "9cf4f766",
   "metadata": {},
   "outputs": [],
   "source": [
    "#arange\n",
    "np.arange(10)"
   ]
  },
  {
   "cell_type": "code",
   "execution_count": null,
   "id": "608cda19",
   "metadata": {},
   "outputs": [],
   "source": [
    "np.arange(20,300,90)"
   ]
  },
  {
   "cell_type": "markdown",
   "id": "95b763d5",
   "metadata": {},
   "source": [
    "# 13-04-2022 "
   ]
  },
  {
   "cell_type": "code",
   "execution_count": null,
   "id": "8185e4dd",
   "metadata": {},
   "outputs": [],
   "source": [
    "#ones\n",
    "import numpy as np\n",
    "np.ones(3)"
   ]
  },
  {
   "cell_type": "code",
   "execution_count": null,
   "id": "bb6e583e",
   "metadata": {},
   "outputs": [],
   "source": [
    "x=np.ones([5,3,8])"
   ]
  },
  {
   "cell_type": "code",
   "execution_count": null,
   "id": "ea2d8270",
   "metadata": {},
   "outputs": [],
   "source": [
    "x"
   ]
  },
  {
   "cell_type": "code",
   "execution_count": null,
   "id": "086d826e",
   "metadata": {},
   "outputs": [],
   "source": [
    "x.ndim"
   ]
  },
  {
   "cell_type": "code",
   "execution_count": null,
   "id": "fa4e67f2",
   "metadata": {},
   "outputs": [],
   "source": [
    "s=np.ones([6,4])"
   ]
  },
  {
   "cell_type": "code",
   "execution_count": null,
   "id": "d1505e6b",
   "metadata": {},
   "outputs": [],
   "source": [
    "s"
   ]
  },
  {
   "cell_type": "code",
   "execution_count": null,
   "id": "67982ae1",
   "metadata": {},
   "outputs": [],
   "source": [
    "s.ndim"
   ]
  },
  {
   "cell_type": "code",
   "execution_count": null,
   "id": "20bd5c8b",
   "metadata": {},
   "outputs": [],
   "source": [
    "x=np.zeros([2])"
   ]
  },
  {
   "cell_type": "code",
   "execution_count": null,
   "id": "77d0e980",
   "metadata": {},
   "outputs": [],
   "source": [
    "x"
   ]
  },
  {
   "cell_type": "code",
   "execution_count": null,
   "id": "0b0f6ccb",
   "metadata": {},
   "outputs": [],
   "source": [
    "#wap to add 2 list\n",
    "a=[1,2,3]\n",
    "b=[3,4,5]"
   ]
  },
  {
   "cell_type": "code",
   "execution_count": null,
   "id": "baf598b6",
   "metadata": {},
   "outputs": [],
   "source": [
    "z=np.array([[1,2,3],[3,4,5]])"
   ]
  },
  {
   "cell_type": "code",
   "execution_count": null,
   "id": "6c079eef",
   "metadata": {},
   "outputs": [],
   "source": [
    "z"
   ]
  },
  {
   "cell_type": "code",
   "execution_count": null,
   "id": "f47427a4",
   "metadata": {},
   "outputs": [],
   "source": [
    "z.sum(axis=0)"
   ]
  },
  {
   "cell_type": "code",
   "execution_count": null,
   "id": "1d964c11",
   "metadata": {},
   "outputs": [],
   "source": [
    "z.sum()"
   ]
  },
  {
   "cell_type": "code",
   "execution_count": null,
   "id": "9566d26a",
   "metadata": {},
   "outputs": [],
   "source": [
    "z.sum(axis=1)"
   ]
  },
  {
   "cell_type": "code",
   "execution_count": null,
   "id": "09097299",
   "metadata": {},
   "outputs": [],
   "source": [
    "x=np.array([[[1,2,3],[4,5,6],[7,8,9]]])"
   ]
  },
  {
   "cell_type": "code",
   "execution_count": null,
   "id": "b186cca3",
   "metadata": {},
   "outputs": [],
   "source": [
    "x"
   ]
  },
  {
   "cell_type": "code",
   "execution_count": null,
   "id": "f9768336",
   "metadata": {},
   "outputs": [],
   "source": [
    "x.sum()"
   ]
  },
  {
   "cell_type": "code",
   "execution_count": null,
   "id": "a1fd5a04",
   "metadata": {},
   "outputs": [],
   "source": [
    "x.sum(axis=0)"
   ]
  },
  {
   "cell_type": "code",
   "execution_count": null,
   "id": "456480ec",
   "metadata": {},
   "outputs": [],
   "source": [
    "x.sum(axis=1)"
   ]
  },
  {
   "cell_type": "code",
   "execution_count": null,
   "id": "dacb0bda",
   "metadata": {},
   "outputs": [],
   "source": [
    "x.sum(axis=2)"
   ]
  },
  {
   "cell_type": "code",
   "execution_count": null,
   "id": "e2ced499",
   "metadata": {},
   "outputs": [],
   "source": [
    "#transpose metrix\n",
    "d=np.array([[[1,2,3],[4,5,6],[7,8,9]]])"
   ]
  },
  {
   "cell_type": "code",
   "execution_count": null,
   "id": "665addd2",
   "metadata": {},
   "outputs": [],
   "source": [
    "d"
   ]
  },
  {
   "cell_type": "code",
   "execution_count": null,
   "id": "70fd23cf",
   "metadata": {},
   "outputs": [],
   "source": [
    "d.T"
   ]
  },
  {
   "cell_type": "code",
   "execution_count": null,
   "id": "523cac01",
   "metadata": {},
   "outputs": [],
   "source": [
    "#searching / sorting\n",
    "w= np.array([100,30,89,34,64,96,74])"
   ]
  },
  {
   "cell_type": "code",
   "execution_count": null,
   "id": "07124b3f",
   "metadata": {},
   "outputs": [],
   "source": [
    "w"
   ]
  },
  {
   "cell_type": "code",
   "execution_count": null,
   "id": "b48f89ab",
   "metadata": {},
   "outputs": [],
   "source": [
    "#search\n",
    "np.where(a%2==0)"
   ]
  },
  {
   "cell_type": "code",
   "execution_count": null,
   "id": "29507122",
   "metadata": {},
   "outputs": [],
   "source": [
    "#sorting\n",
    "w"
   ]
  },
  {
   "cell_type": "code",
   "execution_count": null,
   "id": "6669a4a4",
   "metadata": {},
   "outputs": [],
   "source": [
    "w.sort  #sort()\n",
    "print(w)"
   ]
  },
  {
   "cell_type": "code",
   "execution_count": null,
   "id": "cc02e798",
   "metadata": {},
   "outputs": [],
   "source": [
    "w.sort(-1)"
   ]
  },
  {
   "cell_type": "code",
   "execution_count": null,
   "id": "3d443f26",
   "metadata": {},
   "outputs": [],
   "source": [
    "m= np.array([[100,30,89],[34,64,96],[74,89,78]])"
   ]
  },
  {
   "cell_type": "code",
   "execution_count": null,
   "id": "9cebe1d5",
   "metadata": {},
   "outputs": [],
   "source": [
    "m"
   ]
  },
  {
   "cell_type": "code",
   "execution_count": null,
   "id": "440db064",
   "metadata": {},
   "outputs": [],
   "source": [
    "#minimum\n",
    "m.min()"
   ]
  },
  {
   "cell_type": "code",
   "execution_count": null,
   "id": "aca92de9",
   "metadata": {},
   "outputs": [],
   "source": [
    "#maximum\n",
    "m.max()"
   ]
  },
  {
   "cell_type": "code",
   "execution_count": null,
   "id": "7642cbd3",
   "metadata": {},
   "outputs": [],
   "source": [
    "m.mean()"
   ]
  },
  {
   "cell_type": "code",
   "execution_count": null,
   "id": "86f529c7",
   "metadata": {},
   "outputs": [],
   "source": [
    "#argmax\n",
    "#argmin\n",
    "#argsort"
   ]
  },
  {
   "cell_type": "code",
   "execution_count": null,
   "id": "0dd66185",
   "metadata": {},
   "outputs": [],
   "source": [
    "t= np.array([[1008,302,898],[347,648,964],[754,859,788]])"
   ]
  },
  {
   "cell_type": "code",
   "execution_count": null,
   "id": "9a558e00",
   "metadata": {},
   "outputs": [],
   "source": [
    "t"
   ]
  },
  {
   "cell_type": "code",
   "execution_count": null,
   "id": "e6b3b3fa",
   "metadata": {},
   "outputs": [],
   "source": [
    "t.argmax()"
   ]
  },
  {
   "cell_type": "code",
   "execution_count": null,
   "id": "cb1ce674",
   "metadata": {},
   "outputs": [],
   "source": [
    "t.argmin()"
   ]
  },
  {
   "cell_type": "code",
   "execution_count": null,
   "id": "1f534eb3",
   "metadata": {},
   "outputs": [],
   "source": [
    "t.argsort()"
   ]
  },
  {
   "cell_type": "markdown",
   "id": "87bd8e28",
   "metadata": {},
   "source": [
    "# 14-04-2022\n",
    "\n",
    "# PANDAS "
   ]
  },
  {
   "cell_type": "code",
   "execution_count": null,
   "id": "493ddd14",
   "metadata": {},
   "outputs": [],
   "source": [
    "import pandas as pd"
   ]
  },
  {
   "cell_type": "code",
   "execution_count": null,
   "id": "6925dee2",
   "metadata": {},
   "outputs": [],
   "source": [
    "#wap to make dict!!\n",
    "a={\n",
    "    'Name':['Roushan', 'Rohan','Preet'],\n",
    "    'age':[22,24,26],\n",
    "    'marks':[200,400,600]\n",
    "}"
   ]
  },
  {
   "cell_type": "code",
   "execution_count": null,
   "id": "4dbf8c48",
   "metadata": {},
   "outputs": [],
   "source": [
    "a"
   ]
  },
  {
   "cell_type": "code",
   "execution_count": null,
   "id": "654865ce",
   "metadata": {},
   "outputs": [],
   "source": [
    "df = pd.DataFrame(a,index=[0,1,2])"
   ]
  },
  {
   "cell_type": "code",
   "execution_count": null,
   "id": "30cd58bd",
   "metadata": {},
   "outputs": [],
   "source": [
    "df"
   ]
  },
  {
   "cell_type": "code",
   "execution_count": null,
   "id": "36b6d206",
   "metadata": {},
   "outputs": [],
   "source": [
    "df.iloc[0:1]"
   ]
  },
  {
   "cell_type": "code",
   "execution_count": null,
   "id": "1a788c77",
   "metadata": {},
   "outputs": [],
   "source": [
    "df['Name'][2]"
   ]
  },
  {
   "cell_type": "code",
   "execution_count": null,
   "id": "6c02bee3",
   "metadata": {},
   "outputs": [],
   "source": [
    "df[['Name','marks']]"
   ]
  },
  {
   "cell_type": "code",
   "execution_count": null,
   "id": "2eb28045",
   "metadata": {},
   "outputs": [],
   "source": [
    "df.iloc[2:3]"
   ]
  },
  {
   "cell_type": "code",
   "execution_count": null,
   "id": "a55df840",
   "metadata": {},
   "outputs": [],
   "source": [
    "#store the data in the form of a file\n",
    "file = df.to_csv('mynewfile.csv')"
   ]
  },
  {
   "cell_type": "code",
   "execution_count": null,
   "id": "a82e96fc",
   "metadata": {},
   "outputs": [],
   "source": [
    "file"
   ]
  },
  {
   "cell_type": "code",
   "execution_count": null,
   "id": "bce87da5",
   "metadata": {},
   "outputs": [],
   "source": [
    "#task--------> to import data to python\n",
    "df1 = pd.read_csv()"
   ]
  },
  {
   "cell_type": "code",
   "execution_count": null,
   "id": "7ae1db0f",
   "metadata": {},
   "outputs": [],
   "source": [
    "#task to observe data\n",
    "#head #df1.head()\n",
    "#tail #df1.tail()\n",
    "#sample #df1.sample()"
   ]
  },
  {
   "cell_type": "markdown",
   "id": "527b36e0",
   "metadata": {},
   "source": [
    "# 19-04-2022\n",
    "\n",
    "# PANDAS PART_2"
   ]
  },
  {
   "cell_type": "code",
   "execution_count": null,
   "id": "50409dac",
   "metadata": {},
   "outputs": [],
   "source": [
    "#head & tail\n",
    "#sample\n",
    "#how to calculate null value in the data.\n",
    "#isnull------------->false---------->data is present\n",
    "#notnull------------>false-----------> data is not present"
   ]
  },
  {
   "cell_type": "code",
   "execution_count": null,
   "id": "67cab04f",
   "metadata": {},
   "outputs": [],
   "source": [
    "#df.isnull().sum()\n",
    "#df.notnull().sum()"
   ]
  },
  {
   "cell_type": "code",
   "execution_count": null,
   "id": "37ad4534",
   "metadata": {},
   "outputs": [],
   "source": [
    "#graphs\n",
    "import seaborn as sns"
   ]
  },
  {
   "cell_type": "code",
   "execution_count": null,
   "id": "39dcf2fe",
   "metadata": {},
   "outputs": [],
   "source": [
    "#corr------->ye relateion batata hai ki kis particular column ke sath relationship kitna hai\n",
    "#df.corr()\n"
   ]
  },
  {
   "cell_type": "code",
   "execution_count": null,
   "id": "62c70d26",
   "metadata": {},
   "outputs": [],
   "source": [
    "#describe-----------> ye numerical data ko describe karta hai\n",
    "#df.describe()"
   ]
  },
  {
   "cell_type": "code",
   "execution_count": null,
   "id": "31e17c9f",
   "metadata": {},
   "outputs": [],
   "source": [
    "#graph----->heatmap\n",
    "#sns.heatmap()\n",
    "#sns.heatmap(df1.corr(),annot=True)"
   ]
  },
  {
   "cell_type": "code",
   "execution_count": null,
   "id": "d1fce95d",
   "metadata": {},
   "outputs": [],
   "source": [
    "#replace\n",
    "#df.replace\n",
    "#df.replace--------press shift+tab to open cheat sheet\n",
    "#df.replace('Gurgaon','Gurugram')"
   ]
  },
  {
   "cell_type": "markdown",
   "id": "860bd2f7",
   "metadata": {},
   "source": [
    "# 20-04-2022"
   ]
  },
  {
   "cell_type": "code",
   "execution_count": null,
   "id": "51cb0d05",
   "metadata": {},
   "outputs": [],
   "source": [
    "import pandas as pd\n",
    "df2= pd.read_csv(r'C:\\Users\\ROUSHAN KUMAR\\Downloads\\Bengaluru_House_Data.csv')"
   ]
  },
  {
   "cell_type": "code",
   "execution_count": null,
   "id": "ef373041",
   "metadata": {},
   "outputs": [],
   "source": [
    "#handeling missing values\n",
    "#1.delete\n",
    "#2.ignore\n",
    "#3.store random values\n"
   ]
  },
  {
   "cell_type": "code",
   "execution_count": null,
   "id": "116a351f",
   "metadata": {},
   "outputs": [],
   "source": [
    "#prediction with miss value < prediction with not miss value\n",
    "#4.mean\n",
    "#5.median\n",
    "#6.mode"
   ]
  },
  {
   "cell_type": "code",
   "execution_count": null,
   "id": "11b82d7b",
   "metadata": {},
   "outputs": [],
   "source": [
    "df2"
   ]
  },
  {
   "cell_type": "code",
   "execution_count": null,
   "id": "a1f7187c",
   "metadata": {},
   "outputs": [],
   "source": [
    "#to open cheat sheet (shirt+tab)\n",
    "df2.drop()"
   ]
  },
  {
   "cell_type": "code",
   "execution_count": null,
   "id": "2a5fe1f9",
   "metadata": {},
   "outputs": [],
   "source": [
    "# dropna--------------> drop null value\n",
    "x= df2.dropna()"
   ]
  },
  {
   "cell_type": "code",
   "execution_count": null,
   "id": "35dc1df7",
   "metadata": {},
   "outputs": [],
   "source": [
    "x.isnull().sum()"
   ]
  },
  {
   "cell_type": "code",
   "execution_count": null,
   "id": "2a8c3136",
   "metadata": {},
   "outputs": [],
   "source": [
    "#srarching and sorting\n",
    "#loc & iloc\n",
    "#loc---------->location based searching\n",
    "#iloc---------> index based location searching\n",
    "df2.loc[df2['society']=='Soiewre']\n"
   ]
  },
  {
   "cell_type": "code",
   "execution_count": null,
   "id": "3cbd73d9",
   "metadata": {},
   "outputs": [],
   "source": [
    "#use loc to search the data from df\n",
    "#1. find the name and founded year of edtech companies."
   ]
  },
  {
   "cell_type": "code",
   "execution_count": null,
   "id": "65604267",
   "metadata": {},
   "outputs": [],
   "source": [
    "df3=pd.read_csv(r'C:\\Users\\ROUSHAN KUMAR\\Downloads\\Indian Startup.csv')"
   ]
  },
  {
   "cell_type": "code",
   "execution_count": null,
   "id": "5179d1cf",
   "metadata": {},
   "outputs": [],
   "source": [
    "df3"
   ]
  },
  {
   "cell_type": "code",
   "execution_count": null,
   "id": "80d70acf",
   "metadata": {},
   "outputs": [],
   "source": [
    "df3.loc[df3['Sector']=='EdTech' or [df['Sector']=='E-commerce'[['Company/Brand','Founded']]]"
   ]
  },
  {
   "cell_type": "markdown",
   "id": "34053dcb",
   "metadata": {},
   "source": [
    "# 21-04-2022\n",
    "# PANDAS PART 4"
   ]
  },
  {
   "cell_type": "code",
   "execution_count": null,
   "id": "fc98dd4f",
   "metadata": {},
   "outputs": [],
   "source": [
    "# find the dname and founded year of edtech + e-comm companies.\n",
    "df3[df3['Sector'] == ['EdTech','E-commerce']]"
   ]
  },
  {
   "cell_type": "code",
   "execution_count": null,
   "id": "315604b4",
   "metadata": {},
   "outputs": [],
   "source": [
    "df3[(df3['Sector']=='Edtech') | (df['Sector']=='E-commerce')]"
   ]
  },
  {
   "cell_type": "code",
   "execution_count": null,
   "id": "70c92795",
   "metadata": {},
   "outputs": [],
   "source": [
    "sector=df3['Sector']=='E-commerce'"
   ]
  },
  {
   "cell_type": "code",
   "execution_count": null,
   "id": "0018e6f0",
   "metadata": {},
   "outputs": [],
   "source": [
    "sector.shape[0]"
   ]
  },
  {
   "cell_type": "code",
   "execution_count": null,
   "id": "4c517647",
   "metadata": {},
   "outputs": [],
   "source": [
    "#dot notation\n",
    "df3.Sector"
   ]
  },
  {
   "cell_type": "code",
   "execution_count": null,
   "id": "d3c31c68",
   "metadata": {},
   "outputs": [],
   "source": [
    "df3.Founded"
   ]
  },
  {
   "cell_type": "code",
   "execution_count": null,
   "id": "dc8a686f",
   "metadata": {},
   "outputs": [],
   "source": [
    "#Data manipulation\n",
    "#drop\n",
    "#adding column, rows\n",
    "# perform aggregation function\n",
    "#iloc\n",
    "df3.columns"
   ]
  },
  {
   "cell_type": "code",
   "execution_count": null,
   "id": "ec9cae79",
   "metadata": {},
   "outputs": [],
   "source": [
    "df3[df3['Founded'],2018]"
   ]
  },
  {
   "cell_type": "code",
   "execution_count": null,
   "id": "9be9a569",
   "metadata": {},
   "outputs": [],
   "source": [
    "df3"
   ]
  },
  {
   "cell_type": "markdown",
   "id": "da0b19db",
   "metadata": {},
   "source": [
    "# 25-04-2022"
   ]
  },
  {
   "cell_type": "markdown",
   "id": "dd094257",
   "metadata": {},
   "source": [
    "# PANDAS PART_5\n"
   ]
  },
  {
   "cell_type": "code",
   "execution_count": null,
   "id": "744b2efd",
   "metadata": {},
   "outputs": [],
   "source": [
    "import pandas as pd"
   ]
  },
  {
   "cell_type": "code",
   "execution_count": null,
   "id": "c43bd10c",
   "metadata": {},
   "outputs": [],
   "source": [
    "df4 = pd.read_csv(r'C:\\Users\\ROUSHAN KUMAR\\Downloads\\IPL Matches 2008-2020.csv')"
   ]
  },
  {
   "cell_type": "code",
   "execution_count": null,
   "id": "3cd59f41",
   "metadata": {},
   "outputs": [],
   "source": [
    "df4"
   ]
  },
  {
   "cell_type": "code",
   "execution_count": null,
   "id": "8e54dcb1",
   "metadata": {},
   "outputs": [],
   "source": [
    "df4.head()"
   ]
  },
  {
   "cell_type": "code",
   "execution_count": null,
   "id": "d0c57c2d",
   "metadata": {},
   "outputs": [],
   "source": [
    "#loc----------------->location based searching!!\n",
    "#iloc---------------->index based searching!!\n",
    "df4.iloc[0]\n"
   ]
  },
  {
   "cell_type": "code",
   "execution_count": null,
   "id": "8cf78775",
   "metadata": {},
   "outputs": [],
   "source": [
    "df4.iloc[0,3]"
   ]
  },
  {
   "cell_type": "code",
   "execution_count": null,
   "id": "123a31c0",
   "metadata": {},
   "outputs": [],
   "source": [
    "df4.iloc [0,5]"
   ]
  },
  {
   "cell_type": "code",
   "execution_count": null,
   "id": "a1eebf1c",
   "metadata": {},
   "outputs": [],
   "source": [
    "df4.columns"
   ]
  },
  {
   "cell_type": "code",
   "execution_count": null,
   "id": "6f4d15d7",
   "metadata": {},
   "outputs": [],
   "source": [
    "df4.city"
   ]
  },
  {
   "cell_type": "code",
   "execution_count": null,
   "id": "cf64bf11",
   "metadata": {},
   "outputs": [],
   "source": [
    "#how many times ipl happen in banglore city\n",
    "df4['city'].iloc[0]"
   ]
  },
  {
   "cell_type": "code",
   "execution_count": null,
   "id": "19095862",
   "metadata": {},
   "outputs": [],
   "source": [
    "df4.iloc[df4['city']=='Bangalore']"
   ]
  },
  {
   "cell_type": "code",
   "execution_count": null,
   "id": "89bcf7dd",
   "metadata": {},
   "outputs": [],
   "source": [
    "df4['city'].value_counts()"
   ]
  },
  {
   "cell_type": "code",
   "execution_count": null,
   "id": "bcbddaf6",
   "metadata": {},
   "outputs": [],
   "source": [
    "df4.loc[df4['city']=='Bangalore',['city','venue']]"
   ]
  },
  {
   "cell_type": "code",
   "execution_count": null,
   "id": "879294b4",
   "metadata": {},
   "outputs": [],
   "source": [
    "df4.shape"
   ]
  },
  {
   "cell_type": "code",
   "execution_count": null,
   "id": "c764aa84",
   "metadata": {},
   "outputs": [],
   "source": [
    "df4[df4['city']=='Bangalore'].value_counts"
   ]
  },
  {
   "cell_type": "code",
   "execution_count": null,
   "id": "f86f194a",
   "metadata": {},
   "outputs": [],
   "source": [
    "#df[\"city\"==\"Bangalore\"].value_counts()\n",
    "df4.loc[df4['city']=='Bangalore',['player_of_match','team1']]"
   ]
  },
  {
   "cell_type": "code",
   "execution_count": null,
   "id": "e06bbcb6",
   "metadata": {},
   "outputs": [],
   "source": [
    "# aggregation_function\n",
    "# max,min,mean,median,avg,std_deviation,percentile\n",
    "# info\n",
    "df4.info()\n"
   ]
  },
  {
   "cell_type": "code",
   "execution_count": null,
   "id": "f9b02eed",
   "metadata": {},
   "outputs": [],
   "source": [
    "df4['result_margin'].sum()"
   ]
  },
  {
   "cell_type": "code",
   "execution_count": null,
   "id": "29e1845c",
   "metadata": {},
   "outputs": [],
   "source": [
    "df4['result_margin'].max()"
   ]
  },
  {
   "cell_type": "code",
   "execution_count": null,
   "id": "8d42c4e5",
   "metadata": {},
   "outputs": [],
   "source": [
    "df4['result_margin'].min()"
   ]
  },
  {
   "cell_type": "code",
   "execution_count": null,
   "id": "078f77fb",
   "metadata": {},
   "outputs": [],
   "source": [
    "df4['result_margin'].mean()"
   ]
  },
  {
   "cell_type": "markdown",
   "id": "9f2da0e9",
   "metadata": {},
   "source": [
    "# 26-04-2022\n",
    "\n",
    "# PANDAS_PART_6"
   ]
  },
  {
   "cell_type": "code",
   "execution_count": 34,
   "id": "a57feaf8",
   "metadata": {},
   "outputs": [],
   "source": [
    "#GROUPBY()\n",
    "#ON THE BASIS OF TOSS_DECISION WHAT WILL BE THE UPCOMING RESULT\n",
    "import pandas as pd\n"
   ]
  },
  {
   "cell_type": "code",
   "execution_count": 35,
   "id": "9d21486c",
   "metadata": {},
   "outputs": [],
   "source": [
    "df= pd.read_csv(r'C:\\Users\\ROUSHAN KUMAR\\Downloads\\IPL Matches 2008-2020.csv')"
   ]
  },
  {
   "cell_type": "code",
   "execution_count": 36,
   "id": "2e1f8c9d",
   "metadata": {},
   "outputs": [
    {
     "data": {
      "text/html": [
       "<div>\n",
       "<style scoped>\n",
       "    .dataframe tbody tr th:only-of-type {\n",
       "        vertical-align: middle;\n",
       "    }\n",
       "\n",
       "    .dataframe tbody tr th {\n",
       "        vertical-align: top;\n",
       "    }\n",
       "\n",
       "    .dataframe thead th {\n",
       "        text-align: right;\n",
       "    }\n",
       "</style>\n",
       "<table border=\"1\" class=\"dataframe\">\n",
       "  <thead>\n",
       "    <tr style=\"text-align: right;\">\n",
       "      <th></th>\n",
       "      <th>id</th>\n",
       "      <th>city</th>\n",
       "      <th>date</th>\n",
       "      <th>player_of_match</th>\n",
       "      <th>venue</th>\n",
       "      <th>neutral_venue</th>\n",
       "      <th>team1</th>\n",
       "      <th>team2</th>\n",
       "      <th>toss_winner</th>\n",
       "      <th>toss_decision</th>\n",
       "      <th>winner</th>\n",
       "      <th>result</th>\n",
       "      <th>result_margin</th>\n",
       "      <th>eliminator</th>\n",
       "      <th>method</th>\n",
       "      <th>umpire1</th>\n",
       "      <th>umpire2</th>\n",
       "    </tr>\n",
       "  </thead>\n",
       "  <tbody>\n",
       "    <tr>\n",
       "      <th>0</th>\n",
       "      <td>335982</td>\n",
       "      <td>Bangalore</td>\n",
       "      <td>2008-04-18</td>\n",
       "      <td>BB McCullum</td>\n",
       "      <td>M Chinnaswamy Stadium</td>\n",
       "      <td>0</td>\n",
       "      <td>Royal Challengers Bangalore</td>\n",
       "      <td>Kolkata Knight Riders</td>\n",
       "      <td>Royal Challengers Bangalore</td>\n",
       "      <td>field</td>\n",
       "      <td>Kolkata Knight Riders</td>\n",
       "      <td>runs</td>\n",
       "      <td>140.0</td>\n",
       "      <td>N</td>\n",
       "      <td>NaN</td>\n",
       "      <td>Asad Rauf</td>\n",
       "      <td>RE Koertzen</td>\n",
       "    </tr>\n",
       "    <tr>\n",
       "      <th>1</th>\n",
       "      <td>335983</td>\n",
       "      <td>Chandigarh</td>\n",
       "      <td>2008-04-19</td>\n",
       "      <td>MEK Hussey</td>\n",
       "      <td>Punjab Cricket Association Stadium, Mohali</td>\n",
       "      <td>0</td>\n",
       "      <td>Kings XI Punjab</td>\n",
       "      <td>Chennai Super Kings</td>\n",
       "      <td>Chennai Super Kings</td>\n",
       "      <td>bat</td>\n",
       "      <td>Chennai Super Kings</td>\n",
       "      <td>runs</td>\n",
       "      <td>33.0</td>\n",
       "      <td>N</td>\n",
       "      <td>NaN</td>\n",
       "      <td>MR Benson</td>\n",
       "      <td>SL Shastri</td>\n",
       "    </tr>\n",
       "    <tr>\n",
       "      <th>2</th>\n",
       "      <td>335984</td>\n",
       "      <td>Delhi</td>\n",
       "      <td>2008-04-19</td>\n",
       "      <td>MF Maharoof</td>\n",
       "      <td>Feroz Shah Kotla</td>\n",
       "      <td>0</td>\n",
       "      <td>Delhi Daredevils</td>\n",
       "      <td>Rajasthan Royals</td>\n",
       "      <td>Rajasthan Royals</td>\n",
       "      <td>bat</td>\n",
       "      <td>Delhi Daredevils</td>\n",
       "      <td>wickets</td>\n",
       "      <td>9.0</td>\n",
       "      <td>N</td>\n",
       "      <td>NaN</td>\n",
       "      <td>Aleem Dar</td>\n",
       "      <td>GA Pratapkumar</td>\n",
       "    </tr>\n",
       "    <tr>\n",
       "      <th>3</th>\n",
       "      <td>335985</td>\n",
       "      <td>Mumbai</td>\n",
       "      <td>2008-04-20</td>\n",
       "      <td>MV Boucher</td>\n",
       "      <td>Wankhede Stadium</td>\n",
       "      <td>0</td>\n",
       "      <td>Mumbai Indians</td>\n",
       "      <td>Royal Challengers Bangalore</td>\n",
       "      <td>Mumbai Indians</td>\n",
       "      <td>bat</td>\n",
       "      <td>Royal Challengers Bangalore</td>\n",
       "      <td>wickets</td>\n",
       "      <td>5.0</td>\n",
       "      <td>N</td>\n",
       "      <td>NaN</td>\n",
       "      <td>SJ Davis</td>\n",
       "      <td>DJ Harper</td>\n",
       "    </tr>\n",
       "    <tr>\n",
       "      <th>4</th>\n",
       "      <td>335986</td>\n",
       "      <td>Kolkata</td>\n",
       "      <td>2008-04-20</td>\n",
       "      <td>DJ Hussey</td>\n",
       "      <td>Eden Gardens</td>\n",
       "      <td>0</td>\n",
       "      <td>Kolkata Knight Riders</td>\n",
       "      <td>Deccan Chargers</td>\n",
       "      <td>Deccan Chargers</td>\n",
       "      <td>bat</td>\n",
       "      <td>Kolkata Knight Riders</td>\n",
       "      <td>wickets</td>\n",
       "      <td>5.0</td>\n",
       "      <td>N</td>\n",
       "      <td>NaN</td>\n",
       "      <td>BF Bowden</td>\n",
       "      <td>K Hariharan</td>\n",
       "    </tr>\n",
       "    <tr>\n",
       "      <th>...</th>\n",
       "      <td>...</td>\n",
       "      <td>...</td>\n",
       "      <td>...</td>\n",
       "      <td>...</td>\n",
       "      <td>...</td>\n",
       "      <td>...</td>\n",
       "      <td>...</td>\n",
       "      <td>...</td>\n",
       "      <td>...</td>\n",
       "      <td>...</td>\n",
       "      <td>...</td>\n",
       "      <td>...</td>\n",
       "      <td>...</td>\n",
       "      <td>...</td>\n",
       "      <td>...</td>\n",
       "      <td>...</td>\n",
       "      <td>...</td>\n",
       "    </tr>\n",
       "    <tr>\n",
       "      <th>811</th>\n",
       "      <td>1216547</td>\n",
       "      <td>Dubai</td>\n",
       "      <td>2020-09-28</td>\n",
       "      <td>AB de Villiers</td>\n",
       "      <td>Dubai International Cricket Stadium</td>\n",
       "      <td>0</td>\n",
       "      <td>Royal Challengers Bangalore</td>\n",
       "      <td>Mumbai Indians</td>\n",
       "      <td>Mumbai Indians</td>\n",
       "      <td>field</td>\n",
       "      <td>Royal Challengers Bangalore</td>\n",
       "      <td>tie</td>\n",
       "      <td>NaN</td>\n",
       "      <td>Y</td>\n",
       "      <td>NaN</td>\n",
       "      <td>Nitin Menon</td>\n",
       "      <td>PR Reiffel</td>\n",
       "    </tr>\n",
       "    <tr>\n",
       "      <th>812</th>\n",
       "      <td>1237177</td>\n",
       "      <td>Dubai</td>\n",
       "      <td>2020-11-05</td>\n",
       "      <td>JJ Bumrah</td>\n",
       "      <td>Dubai International Cricket Stadium</td>\n",
       "      <td>0</td>\n",
       "      <td>Mumbai Indians</td>\n",
       "      <td>Delhi Capitals</td>\n",
       "      <td>Delhi Capitals</td>\n",
       "      <td>field</td>\n",
       "      <td>Mumbai Indians</td>\n",
       "      <td>runs</td>\n",
       "      <td>57.0</td>\n",
       "      <td>N</td>\n",
       "      <td>NaN</td>\n",
       "      <td>CB Gaffaney</td>\n",
       "      <td>Nitin Menon</td>\n",
       "    </tr>\n",
       "    <tr>\n",
       "      <th>813</th>\n",
       "      <td>1237178</td>\n",
       "      <td>Abu Dhabi</td>\n",
       "      <td>2020-11-06</td>\n",
       "      <td>KS Williamson</td>\n",
       "      <td>Sheikh Zayed Stadium</td>\n",
       "      <td>0</td>\n",
       "      <td>Royal Challengers Bangalore</td>\n",
       "      <td>Sunrisers Hyderabad</td>\n",
       "      <td>Sunrisers Hyderabad</td>\n",
       "      <td>field</td>\n",
       "      <td>Sunrisers Hyderabad</td>\n",
       "      <td>wickets</td>\n",
       "      <td>6.0</td>\n",
       "      <td>N</td>\n",
       "      <td>NaN</td>\n",
       "      <td>PR Reiffel</td>\n",
       "      <td>S Ravi</td>\n",
       "    </tr>\n",
       "    <tr>\n",
       "      <th>814</th>\n",
       "      <td>1237180</td>\n",
       "      <td>Abu Dhabi</td>\n",
       "      <td>2020-11-08</td>\n",
       "      <td>MP Stoinis</td>\n",
       "      <td>Sheikh Zayed Stadium</td>\n",
       "      <td>0</td>\n",
       "      <td>Delhi Capitals</td>\n",
       "      <td>Sunrisers Hyderabad</td>\n",
       "      <td>Delhi Capitals</td>\n",
       "      <td>bat</td>\n",
       "      <td>Delhi Capitals</td>\n",
       "      <td>runs</td>\n",
       "      <td>17.0</td>\n",
       "      <td>N</td>\n",
       "      <td>NaN</td>\n",
       "      <td>PR Reiffel</td>\n",
       "      <td>S Ravi</td>\n",
       "    </tr>\n",
       "    <tr>\n",
       "      <th>815</th>\n",
       "      <td>1237181</td>\n",
       "      <td>Dubai</td>\n",
       "      <td>2020-11-10</td>\n",
       "      <td>TA Boult</td>\n",
       "      <td>Dubai International Cricket Stadium</td>\n",
       "      <td>0</td>\n",
       "      <td>Delhi Capitals</td>\n",
       "      <td>Mumbai Indians</td>\n",
       "      <td>Delhi Capitals</td>\n",
       "      <td>bat</td>\n",
       "      <td>Mumbai Indians</td>\n",
       "      <td>wickets</td>\n",
       "      <td>5.0</td>\n",
       "      <td>N</td>\n",
       "      <td>NaN</td>\n",
       "      <td>CB Gaffaney</td>\n",
       "      <td>Nitin Menon</td>\n",
       "    </tr>\n",
       "  </tbody>\n",
       "</table>\n",
       "<p>816 rows × 17 columns</p>\n",
       "</div>"
      ],
      "text/plain": [
       "          id        city        date player_of_match  \\\n",
       "0     335982   Bangalore  2008-04-18     BB McCullum   \n",
       "1     335983  Chandigarh  2008-04-19      MEK Hussey   \n",
       "2     335984       Delhi  2008-04-19     MF Maharoof   \n",
       "3     335985      Mumbai  2008-04-20      MV Boucher   \n",
       "4     335986     Kolkata  2008-04-20       DJ Hussey   \n",
       "..       ...         ...         ...             ...   \n",
       "811  1216547       Dubai  2020-09-28  AB de Villiers   \n",
       "812  1237177       Dubai  2020-11-05       JJ Bumrah   \n",
       "813  1237178   Abu Dhabi  2020-11-06   KS Williamson   \n",
       "814  1237180   Abu Dhabi  2020-11-08      MP Stoinis   \n",
       "815  1237181       Dubai  2020-11-10        TA Boult   \n",
       "\n",
       "                                          venue  neutral_venue  \\\n",
       "0                         M Chinnaswamy Stadium              0   \n",
       "1    Punjab Cricket Association Stadium, Mohali              0   \n",
       "2                              Feroz Shah Kotla              0   \n",
       "3                              Wankhede Stadium              0   \n",
       "4                                  Eden Gardens              0   \n",
       "..                                          ...            ...   \n",
       "811         Dubai International Cricket Stadium              0   \n",
       "812         Dubai International Cricket Stadium              0   \n",
       "813                        Sheikh Zayed Stadium              0   \n",
       "814                        Sheikh Zayed Stadium              0   \n",
       "815         Dubai International Cricket Stadium              0   \n",
       "\n",
       "                           team1                        team2  \\\n",
       "0    Royal Challengers Bangalore        Kolkata Knight Riders   \n",
       "1                Kings XI Punjab          Chennai Super Kings   \n",
       "2               Delhi Daredevils             Rajasthan Royals   \n",
       "3                 Mumbai Indians  Royal Challengers Bangalore   \n",
       "4          Kolkata Knight Riders              Deccan Chargers   \n",
       "..                           ...                          ...   \n",
       "811  Royal Challengers Bangalore               Mumbai Indians   \n",
       "812               Mumbai Indians               Delhi Capitals   \n",
       "813  Royal Challengers Bangalore          Sunrisers Hyderabad   \n",
       "814               Delhi Capitals          Sunrisers Hyderabad   \n",
       "815               Delhi Capitals               Mumbai Indians   \n",
       "\n",
       "                     toss_winner toss_decision                       winner  \\\n",
       "0    Royal Challengers Bangalore         field        Kolkata Knight Riders   \n",
       "1            Chennai Super Kings           bat          Chennai Super Kings   \n",
       "2               Rajasthan Royals           bat             Delhi Daredevils   \n",
       "3                 Mumbai Indians           bat  Royal Challengers Bangalore   \n",
       "4                Deccan Chargers           bat        Kolkata Knight Riders   \n",
       "..                           ...           ...                          ...   \n",
       "811               Mumbai Indians         field  Royal Challengers Bangalore   \n",
       "812               Delhi Capitals         field               Mumbai Indians   \n",
       "813          Sunrisers Hyderabad         field          Sunrisers Hyderabad   \n",
       "814               Delhi Capitals           bat               Delhi Capitals   \n",
       "815               Delhi Capitals           bat               Mumbai Indians   \n",
       "\n",
       "      result  result_margin eliminator method      umpire1         umpire2  \n",
       "0       runs          140.0          N    NaN    Asad Rauf     RE Koertzen  \n",
       "1       runs           33.0          N    NaN    MR Benson      SL Shastri  \n",
       "2    wickets            9.0          N    NaN    Aleem Dar  GA Pratapkumar  \n",
       "3    wickets            5.0          N    NaN     SJ Davis       DJ Harper  \n",
       "4    wickets            5.0          N    NaN    BF Bowden     K Hariharan  \n",
       "..       ...            ...        ...    ...          ...             ...  \n",
       "811      tie            NaN          Y    NaN  Nitin Menon      PR Reiffel  \n",
       "812     runs           57.0          N    NaN  CB Gaffaney     Nitin Menon  \n",
       "813  wickets            6.0          N    NaN   PR Reiffel          S Ravi  \n",
       "814     runs           17.0          N    NaN   PR Reiffel          S Ravi  \n",
       "815  wickets            5.0          N    NaN  CB Gaffaney     Nitin Menon  \n",
       "\n",
       "[816 rows x 17 columns]"
      ]
     },
     "execution_count": 36,
     "metadata": {},
     "output_type": "execute_result"
    }
   ],
   "source": [
    "df"
   ]
  },
  {
   "cell_type": "code",
   "execution_count": 37,
   "id": "c83f3693",
   "metadata": {},
   "outputs": [
    {
     "data": {
      "text/plain": [
       "0         runs\n",
       "1         runs\n",
       "2      wickets\n",
       "3      wickets\n",
       "4      wickets\n",
       "        ...   \n",
       "811        tie\n",
       "812       runs\n",
       "813    wickets\n",
       "814       runs\n",
       "815    wickets\n",
       "Name: result, Length: 816, dtype: object"
      ]
     },
     "execution_count": 37,
     "metadata": {},
     "output_type": "execute_result"
    }
   ],
   "source": [
    "df.result"
   ]
  },
  {
   "cell_type": "code",
   "execution_count": 45,
   "id": "700190cc",
   "metadata": {},
   "outputs": [
    {
     "name": "stderr",
     "output_type": "stream",
     "text": [
      "C:\\Users\\ROUSHA~1\\AppData\\Local\\Temp/ipykernel_18480/4068954086.py:1: FutureWarning: Dropping invalid columns in DataFrameGroupBy.max is deprecated. In a future version, a TypeError will be raised. Before calling .max, select only columns which should be valid for the function.\n",
      "  df.groupby(['toss_decision'])[['winner']].max()\n"
     ]
    },
    {
     "data": {
      "text/html": [
       "<div>\n",
       "<style scoped>\n",
       "    .dataframe tbody tr th:only-of-type {\n",
       "        vertical-align: middle;\n",
       "    }\n",
       "\n",
       "    .dataframe tbody tr th {\n",
       "        vertical-align: top;\n",
       "    }\n",
       "\n",
       "    .dataframe thead th {\n",
       "        text-align: right;\n",
       "    }\n",
       "</style>\n",
       "<table border=\"1\" class=\"dataframe\">\n",
       "  <thead>\n",
       "    <tr style=\"text-align: right;\">\n",
       "      <th></th>\n",
       "    </tr>\n",
       "    <tr>\n",
       "      <th>toss_decision</th>\n",
       "    </tr>\n",
       "  </thead>\n",
       "  <tbody>\n",
       "    <tr>\n",
       "      <th>bat</th>\n",
       "    </tr>\n",
       "    <tr>\n",
       "      <th>field</th>\n",
       "    </tr>\n",
       "  </tbody>\n",
       "</table>\n",
       "</div>"
      ],
      "text/plain": [
       "Empty DataFrame\n",
       "Columns: []\n",
       "Index: [bat, field]"
      ]
     },
     "execution_count": 45,
     "metadata": {},
     "output_type": "execute_result"
    }
   ],
   "source": [
    "df.groupby(['toss_decision'])[['winner']].max()"
   ]
  },
  {
   "cell_type": "code",
   "execution_count": 53,
   "id": "233c668b",
   "metadata": {},
   "outputs": [
    {
     "data": {
      "text/html": [
       "<div>\n",
       "<style scoped>\n",
       "    .dataframe tbody tr th:only-of-type {\n",
       "        vertical-align: middle;\n",
       "    }\n",
       "\n",
       "    .dataframe tbody tr th {\n",
       "        vertical-align: top;\n",
       "    }\n",
       "\n",
       "    .dataframe thead th {\n",
       "        text-align: right;\n",
       "    }\n",
       "</style>\n",
       "<table border=\"1\" class=\"dataframe\">\n",
       "  <thead>\n",
       "    <tr style=\"text-align: right;\">\n",
       "      <th></th>\n",
       "      <th></th>\n",
       "      <th>id</th>\n",
       "      <th>neutral_venue</th>\n",
       "      <th>result_margin</th>\n",
       "    </tr>\n",
       "    <tr>\n",
       "      <th>toss_decision</th>\n",
       "      <th>result</th>\n",
       "      <th></th>\n",
       "      <th></th>\n",
       "      <th></th>\n",
       "    </tr>\n",
       "  </thead>\n",
       "  <tbody>\n",
       "    <tr>\n",
       "      <th rowspan=\"3\" valign=\"top\">bat</th>\n",
       "      <th>runs</th>\n",
       "      <td>645765.198630</td>\n",
       "      <td>0.150685</td>\n",
       "      <td>28.013699</td>\n",
       "    </tr>\n",
       "    <tr>\n",
       "      <th>tie</th>\n",
       "      <td>960977.400000</td>\n",
       "      <td>0.200000</td>\n",
       "      <td>NaN</td>\n",
       "    </tr>\n",
       "    <tr>\n",
       "      <th>wickets</th>\n",
       "      <td>668684.184524</td>\n",
       "      <td>0.125000</td>\n",
       "      <td>6.422619</td>\n",
       "    </tr>\n",
       "    <tr>\n",
       "      <th rowspan=\"3\" valign=\"top\">field</th>\n",
       "      <th>runs</th>\n",
       "      <td>810572.522936</td>\n",
       "      <td>0.059633</td>\n",
       "      <td>32.178899</td>\n",
       "    </tr>\n",
       "    <tr>\n",
       "      <th>tie</th>\n",
       "      <td>882998.250000</td>\n",
       "      <td>0.125000</td>\n",
       "      <td>NaN</td>\n",
       "    </tr>\n",
       "    <tr>\n",
       "      <th>wickets</th>\n",
       "      <td>818904.966292</td>\n",
       "      <td>0.071161</td>\n",
       "      <td>6.202247</td>\n",
       "    </tr>\n",
       "  </tbody>\n",
       "</table>\n",
       "</div>"
      ],
      "text/plain": [
       "                                  id  neutral_venue  result_margin\n",
       "toss_decision result                                              \n",
       "bat           runs     645765.198630       0.150685      28.013699\n",
       "              tie      960977.400000       0.200000            NaN\n",
       "              wickets  668684.184524       0.125000       6.422619\n",
       "field         runs     810572.522936       0.059633      32.178899\n",
       "              tie      882998.250000       0.125000            NaN\n",
       "              wickets  818904.966292       0.071161       6.202247"
      ]
     },
     "execution_count": 53,
     "metadata": {},
     "output_type": "execute_result"
    }
   ],
   "source": [
    "df.groupby([\"toss_decision\",\"result\"]).mean()"
   ]
  },
  {
   "cell_type": "code",
   "execution_count": 70,
   "id": "d9a61d37",
   "metadata": {},
   "outputs": [
    {
     "data": {
      "text/plain": [
       "True"
      ]
     },
     "execution_count": 70,
     "metadata": {},
     "output_type": "execute_result"
    }
   ],
   "source": [
    "#wap on the basis of city arrange the data into assending order and decending order\n",
    "df.groupby(by='city').sort\n"
   ]
  },
  {
   "cell_type": "code",
   "execution_count": 72,
   "id": "6638cbd8",
   "metadata": {},
   "outputs": [
    {
     "data": {
      "text/html": [
       "<div>\n",
       "<style scoped>\n",
       "    .dataframe tbody tr th:only-of-type {\n",
       "        vertical-align: middle;\n",
       "    }\n",
       "\n",
       "    .dataframe tbody tr th {\n",
       "        vertical-align: top;\n",
       "    }\n",
       "\n",
       "    .dataframe thead th {\n",
       "        text-align: right;\n",
       "    }\n",
       "</style>\n",
       "<table border=\"1\" class=\"dataframe\">\n",
       "  <thead>\n",
       "    <tr style=\"text-align: right;\">\n",
       "      <th></th>\n",
       "      <th>id</th>\n",
       "      <th>city</th>\n",
       "      <th>date</th>\n",
       "      <th>player_of_match</th>\n",
       "      <th>venue</th>\n",
       "      <th>neutral_venue</th>\n",
       "      <th>team1</th>\n",
       "      <th>team2</th>\n",
       "      <th>toss_winner</th>\n",
       "      <th>toss_decision</th>\n",
       "      <th>winner</th>\n",
       "      <th>result</th>\n",
       "      <th>result_margin</th>\n",
       "      <th>eliminator</th>\n",
       "      <th>method</th>\n",
       "      <th>umpire1</th>\n",
       "      <th>umpire2</th>\n",
       "    </tr>\n",
       "  </thead>\n",
       "  <tbody>\n",
       "    <tr>\n",
       "      <th>405</th>\n",
       "      <td>729293</td>\n",
       "      <td>Abu Dhabi</td>\n",
       "      <td>2014-04-21</td>\n",
       "      <td>SK Raina</td>\n",
       "      <td>Sheikh Zayed Stadium</td>\n",
       "      <td>1</td>\n",
       "      <td>Chennai Super Kings</td>\n",
       "      <td>Delhi Daredevils</td>\n",
       "      <td>Chennai Super Kings</td>\n",
       "      <td>bat</td>\n",
       "      <td>Chennai Super Kings</td>\n",
       "      <td>runs</td>\n",
       "      <td>93.0</td>\n",
       "      <td>N</td>\n",
       "      <td>NaN</td>\n",
       "      <td>RK Illingworth</td>\n",
       "      <td>C Shamshuddin</td>\n",
       "    </tr>\n",
       "    <tr>\n",
       "      <th>416</th>\n",
       "      <td>729315</td>\n",
       "      <td>Abu Dhabi</td>\n",
       "      <td>2014-04-29</td>\n",
       "      <td>JP Faulkner</td>\n",
       "      <td>Sheikh Zayed Stadium</td>\n",
       "      <td>1</td>\n",
       "      <td>Kolkata Knight Riders</td>\n",
       "      <td>Rajasthan Royals</td>\n",
       "      <td>Rajasthan Royals</td>\n",
       "      <td>bat</td>\n",
       "      <td>Rajasthan Royals</td>\n",
       "      <td>tie</td>\n",
       "      <td>NaN</td>\n",
       "      <td>Y</td>\n",
       "      <td>NaN</td>\n",
       "      <td>Aleem Dar</td>\n",
       "      <td>AK Chaudhary</td>\n",
       "    </tr>\n",
       "    <tr>\n",
       "      <th>412</th>\n",
       "      <td>729307</td>\n",
       "      <td>Abu Dhabi</td>\n",
       "      <td>2014-04-26</td>\n",
       "      <td>Sandeep Sharma</td>\n",
       "      <td>Sheikh Zayed Stadium</td>\n",
       "      <td>1</td>\n",
       "      <td>Kolkata Knight Riders</td>\n",
       "      <td>Kings XI Punjab</td>\n",
       "      <td>Kolkata Knight Riders</td>\n",
       "      <td>field</td>\n",
       "      <td>Kings XI Punjab</td>\n",
       "      <td>runs</td>\n",
       "      <td>23.0</td>\n",
       "      <td>N</td>\n",
       "      <td>NaN</td>\n",
       "      <td>HDPK Dharmasena</td>\n",
       "      <td>RK Illingworth</td>\n",
       "    </tr>\n",
       "    <tr>\n",
       "      <th>411</th>\n",
       "      <td>729305</td>\n",
       "      <td>Abu Dhabi</td>\n",
       "      <td>2014-04-26</td>\n",
       "      <td>PV Tambe</td>\n",
       "      <td>Sheikh Zayed Stadium</td>\n",
       "      <td>1</td>\n",
       "      <td>Rajasthan Royals</td>\n",
       "      <td>Royal Challengers Bangalore</td>\n",
       "      <td>Rajasthan Royals</td>\n",
       "      <td>field</td>\n",
       "      <td>Rajasthan Royals</td>\n",
       "      <td>wickets</td>\n",
       "      <td>6.0</td>\n",
       "      <td>N</td>\n",
       "      <td>NaN</td>\n",
       "      <td>HDPK Dharmasena</td>\n",
       "      <td>C Shamshuddin</td>\n",
       "    </tr>\n",
       "    <tr>\n",
       "      <th>814</th>\n",
       "      <td>1237180</td>\n",
       "      <td>Abu Dhabi</td>\n",
       "      <td>2020-11-08</td>\n",
       "      <td>MP Stoinis</td>\n",
       "      <td>Sheikh Zayed Stadium</td>\n",
       "      <td>0</td>\n",
       "      <td>Delhi Capitals</td>\n",
       "      <td>Sunrisers Hyderabad</td>\n",
       "      <td>Delhi Capitals</td>\n",
       "      <td>bat</td>\n",
       "      <td>Delhi Capitals</td>\n",
       "      <td>runs</td>\n",
       "      <td>17.0</td>\n",
       "      <td>N</td>\n",
       "      <td>NaN</td>\n",
       "      <td>PR Reiffel</td>\n",
       "      <td>S Ravi</td>\n",
       "    </tr>\n",
       "    <tr>\n",
       "      <th>...</th>\n",
       "      <td>...</td>\n",
       "      <td>...</td>\n",
       "      <td>...</td>\n",
       "      <td>...</td>\n",
       "      <td>...</td>\n",
       "      <td>...</td>\n",
       "      <td>...</td>\n",
       "      <td>...</td>\n",
       "      <td>...</td>\n",
       "      <td>...</td>\n",
       "      <td>...</td>\n",
       "      <td>...</td>\n",
       "      <td>...</td>\n",
       "      <td>...</td>\n",
       "      <td>...</td>\n",
       "      <td>...</td>\n",
       "      <td>...</td>\n",
       "    </tr>\n",
       "    <tr>\n",
       "      <th>536</th>\n",
       "      <td>980939</td>\n",
       "      <td>Pune</td>\n",
       "      <td>2016-04-24</td>\n",
       "      <td>SA Yadav</td>\n",
       "      <td>Maharashtra Cricket Association Stadium</td>\n",
       "      <td>0</td>\n",
       "      <td>Rising Pune Supergiants</td>\n",
       "      <td>Kolkata Knight Riders</td>\n",
       "      <td>Kolkata Knight Riders</td>\n",
       "      <td>field</td>\n",
       "      <td>Kolkata Knight Riders</td>\n",
       "      <td>wickets</td>\n",
       "      <td>2.0</td>\n",
       "      <td>N</td>\n",
       "      <td>NaN</td>\n",
       "      <td>CB Gaffaney</td>\n",
       "      <td>A Nand Kishore</td>\n",
       "    </tr>\n",
       "    <tr>\n",
       "      <th>605</th>\n",
       "      <td>1082620</td>\n",
       "      <td>Pune</td>\n",
       "      <td>2017-04-26</td>\n",
       "      <td>RV Uthappa</td>\n",
       "      <td>Maharashtra Cricket Association Stadium</td>\n",
       "      <td>0</td>\n",
       "      <td>Rising Pune Supergiant</td>\n",
       "      <td>Kolkata Knight Riders</td>\n",
       "      <td>Kolkata Knight Riders</td>\n",
       "      <td>field</td>\n",
       "      <td>Kolkata Knight Riders</td>\n",
       "      <td>wickets</td>\n",
       "      <td>7.0</td>\n",
       "      <td>N</td>\n",
       "      <td>NaN</td>\n",
       "      <td>AY Dandekar</td>\n",
       "      <td>NJ Llong</td>\n",
       "    </tr>\n",
       "    <tr>\n",
       "      <th>532</th>\n",
       "      <td>980931</td>\n",
       "      <td>Pune</td>\n",
       "      <td>2016-04-22</td>\n",
       "      <td>AB de Villiers</td>\n",
       "      <td>Maharashtra Cricket Association Stadium</td>\n",
       "      <td>0</td>\n",
       "      <td>Rising Pune Supergiants</td>\n",
       "      <td>Royal Challengers Bangalore</td>\n",
       "      <td>Rising Pune Supergiants</td>\n",
       "      <td>field</td>\n",
       "      <td>Royal Challengers Bangalore</td>\n",
       "      <td>runs</td>\n",
       "      <td>13.0</td>\n",
       "      <td>N</td>\n",
       "      <td>NaN</td>\n",
       "      <td>CB Gaffaney</td>\n",
       "      <td>VK Sharma</td>\n",
       "    </tr>\n",
       "    <tr>\n",
       "      <th>614</th>\n",
       "      <td>1082629</td>\n",
       "      <td>Pune</td>\n",
       "      <td>2017-05-01</td>\n",
       "      <td>BA Stokes</td>\n",
       "      <td>Maharashtra Cricket Association Stadium</td>\n",
       "      <td>0</td>\n",
       "      <td>Rising Pune Supergiant</td>\n",
       "      <td>Gujarat Lions</td>\n",
       "      <td>Rising Pune Supergiant</td>\n",
       "      <td>field</td>\n",
       "      <td>Rising Pune Supergiant</td>\n",
       "      <td>wickets</td>\n",
       "      <td>5.0</td>\n",
       "      <td>N</td>\n",
       "      <td>NaN</td>\n",
       "      <td>M Erasmus</td>\n",
       "      <td>C Shamshuddin</td>\n",
       "    </tr>\n",
       "    <tr>\n",
       "      <th>556</th>\n",
       "      <td>980979</td>\n",
       "      <td>Visakhapatnam</td>\n",
       "      <td>2016-05-10</td>\n",
       "      <td>A Zampa</td>\n",
       "      <td>Dr. Y.S. Rajasekhara Reddy ACA-VDCA Cricket St...</td>\n",
       "      <td>0</td>\n",
       "      <td>Rising Pune Supergiants</td>\n",
       "      <td>Sunrisers Hyderabad</td>\n",
       "      <td>Sunrisers Hyderabad</td>\n",
       "      <td>bat</td>\n",
       "      <td>Sunrisers Hyderabad</td>\n",
       "      <td>runs</td>\n",
       "      <td>4.0</td>\n",
       "      <td>N</td>\n",
       "      <td>NaN</td>\n",
       "      <td>CB Gaffaney</td>\n",
       "      <td>VK Sharma</td>\n",
       "    </tr>\n",
       "  </tbody>\n",
       "</table>\n",
       "<p>75 rows × 17 columns</p>\n",
       "</div>"
      ],
      "text/plain": [
       "          id           city        date player_of_match  \\\n",
       "405   729293      Abu Dhabi  2014-04-21        SK Raina   \n",
       "416   729315      Abu Dhabi  2014-04-29     JP Faulkner   \n",
       "412   729307      Abu Dhabi  2014-04-26  Sandeep Sharma   \n",
       "411   729305      Abu Dhabi  2014-04-26        PV Tambe   \n",
       "814  1237180      Abu Dhabi  2020-11-08      MP Stoinis   \n",
       "..       ...            ...         ...             ...   \n",
       "536   980939           Pune  2016-04-24        SA Yadav   \n",
       "605  1082620           Pune  2017-04-26      RV Uthappa   \n",
       "532   980931           Pune  2016-04-22  AB de Villiers   \n",
       "614  1082629           Pune  2017-05-01       BA Stokes   \n",
       "556   980979  Visakhapatnam  2016-05-10         A Zampa   \n",
       "\n",
       "                                                 venue  neutral_venue  \\\n",
       "405                               Sheikh Zayed Stadium              1   \n",
       "416                               Sheikh Zayed Stadium              1   \n",
       "412                               Sheikh Zayed Stadium              1   \n",
       "411                               Sheikh Zayed Stadium              1   \n",
       "814                               Sheikh Zayed Stadium              0   \n",
       "..                                                 ...            ...   \n",
       "536            Maharashtra Cricket Association Stadium              0   \n",
       "605            Maharashtra Cricket Association Stadium              0   \n",
       "532            Maharashtra Cricket Association Stadium              0   \n",
       "614            Maharashtra Cricket Association Stadium              0   \n",
       "556  Dr. Y.S. Rajasekhara Reddy ACA-VDCA Cricket St...              0   \n",
       "\n",
       "                       team1                        team2  \\\n",
       "405      Chennai Super Kings             Delhi Daredevils   \n",
       "416    Kolkata Knight Riders             Rajasthan Royals   \n",
       "412    Kolkata Knight Riders              Kings XI Punjab   \n",
       "411         Rajasthan Royals  Royal Challengers Bangalore   \n",
       "814           Delhi Capitals          Sunrisers Hyderabad   \n",
       "..                       ...                          ...   \n",
       "536  Rising Pune Supergiants        Kolkata Knight Riders   \n",
       "605   Rising Pune Supergiant        Kolkata Knight Riders   \n",
       "532  Rising Pune Supergiants  Royal Challengers Bangalore   \n",
       "614   Rising Pune Supergiant                Gujarat Lions   \n",
       "556  Rising Pune Supergiants          Sunrisers Hyderabad   \n",
       "\n",
       "                 toss_winner toss_decision                       winner  \\\n",
       "405      Chennai Super Kings           bat          Chennai Super Kings   \n",
       "416         Rajasthan Royals           bat             Rajasthan Royals   \n",
       "412    Kolkata Knight Riders         field              Kings XI Punjab   \n",
       "411         Rajasthan Royals         field             Rajasthan Royals   \n",
       "814           Delhi Capitals           bat               Delhi Capitals   \n",
       "..                       ...           ...                          ...   \n",
       "536    Kolkata Knight Riders         field        Kolkata Knight Riders   \n",
       "605    Kolkata Knight Riders         field        Kolkata Knight Riders   \n",
       "532  Rising Pune Supergiants         field  Royal Challengers Bangalore   \n",
       "614   Rising Pune Supergiant         field       Rising Pune Supergiant   \n",
       "556      Sunrisers Hyderabad           bat          Sunrisers Hyderabad   \n",
       "\n",
       "      result  result_margin eliminator method          umpire1         umpire2  \n",
       "405     runs           93.0          N    NaN   RK Illingworth   C Shamshuddin  \n",
       "416      tie            NaN          Y    NaN        Aleem Dar    AK Chaudhary  \n",
       "412     runs           23.0          N    NaN  HDPK Dharmasena  RK Illingworth  \n",
       "411  wickets            6.0          N    NaN  HDPK Dharmasena   C Shamshuddin  \n",
       "814     runs           17.0          N    NaN       PR Reiffel          S Ravi  \n",
       "..       ...            ...        ...    ...              ...             ...  \n",
       "536  wickets            2.0          N    NaN      CB Gaffaney  A Nand Kishore  \n",
       "605  wickets            7.0          N    NaN      AY Dandekar        NJ Llong  \n",
       "532     runs           13.0          N    NaN      CB Gaffaney       VK Sharma  \n",
       "614  wickets            5.0          N    NaN        M Erasmus   C Shamshuddin  \n",
       "556     runs            4.0          N    NaN      CB Gaffaney       VK Sharma  \n",
       "\n",
       "[75 rows x 17 columns]"
      ]
     },
     "execution_count": 72,
     "metadata": {},
     "output_type": "execute_result"
    }
   ],
   "source": [
    "df.sort_values('city',ascending=True).groupby('team1').head()"
   ]
  },
  {
   "cell_type": "code",
   "execution_count": 78,
   "id": "8e6d6f93",
   "metadata": {},
   "outputs": [
    {
     "data": {
      "text/html": [
       "<div>\n",
       "<style scoped>\n",
       "    .dataframe tbody tr th:only-of-type {\n",
       "        vertical-align: middle;\n",
       "    }\n",
       "\n",
       "    .dataframe tbody tr th {\n",
       "        vertical-align: top;\n",
       "    }\n",
       "\n",
       "    .dataframe thead th {\n",
       "        text-align: right;\n",
       "    }\n",
       "</style>\n",
       "<table border=\"1\" class=\"dataframe\">\n",
       "  <thead>\n",
       "    <tr style=\"text-align: right;\">\n",
       "      <th></th>\n",
       "      <th>id</th>\n",
       "      <th>city</th>\n",
       "      <th>date</th>\n",
       "      <th>player_of_match</th>\n",
       "      <th>venue</th>\n",
       "      <th>neutral_venue</th>\n",
       "      <th>team1</th>\n",
       "      <th>team2</th>\n",
       "      <th>toss_winner</th>\n",
       "      <th>toss_decision</th>\n",
       "      <th>winner</th>\n",
       "      <th>result</th>\n",
       "      <th>result_margin</th>\n",
       "      <th>eliminator</th>\n",
       "      <th>method</th>\n",
       "      <th>umpire1</th>\n",
       "      <th>umpire2</th>\n",
       "    </tr>\n",
       "  </thead>\n",
       "  <tbody>\n",
       "    <tr>\n",
       "      <th>0</th>\n",
       "      <td>335982</td>\n",
       "      <td>Bangalore</td>\n",
       "      <td>2008-04-18</td>\n",
       "      <td>BB McCullum</td>\n",
       "      <td>M Chinnaswamy Stadium</td>\n",
       "      <td>0</td>\n",
       "      <td>Royal Challengers Bangalore</td>\n",
       "      <td>Kolkata Knight Riders</td>\n",
       "      <td>Royal Challengers Bangalore</td>\n",
       "      <td>field</td>\n",
       "      <td>Kolkata Knight Riders</td>\n",
       "      <td>runs</td>\n",
       "      <td>140.0</td>\n",
       "      <td>N</td>\n",
       "      <td>NaN</td>\n",
       "      <td>Asad Rauf</td>\n",
       "      <td>RE Koertzen</td>\n",
       "    </tr>\n",
       "    <tr>\n",
       "      <th>1</th>\n",
       "      <td>335983</td>\n",
       "      <td>Chandigarh</td>\n",
       "      <td>2008-04-19</td>\n",
       "      <td>MEK Hussey</td>\n",
       "      <td>Punjab Cricket Association Stadium, Mohali</td>\n",
       "      <td>0</td>\n",
       "      <td>Kings XI Punjab</td>\n",
       "      <td>Chennai Super Kings</td>\n",
       "      <td>Chennai Super Kings</td>\n",
       "      <td>bat</td>\n",
       "      <td>Chennai Super Kings</td>\n",
       "      <td>runs</td>\n",
       "      <td>33.0</td>\n",
       "      <td>N</td>\n",
       "      <td>NaN</td>\n",
       "      <td>MR Benson</td>\n",
       "      <td>SL Shastri</td>\n",
       "    </tr>\n",
       "    <tr>\n",
       "      <th>2</th>\n",
       "      <td>335984</td>\n",
       "      <td>Delhi</td>\n",
       "      <td>2008-04-19</td>\n",
       "      <td>MF Maharoof</td>\n",
       "      <td>Feroz Shah Kotla</td>\n",
       "      <td>0</td>\n",
       "      <td>Delhi Daredevils</td>\n",
       "      <td>Rajasthan Royals</td>\n",
       "      <td>Rajasthan Royals</td>\n",
       "      <td>bat</td>\n",
       "      <td>Delhi Daredevils</td>\n",
       "      <td>wickets</td>\n",
       "      <td>9.0</td>\n",
       "      <td>N</td>\n",
       "      <td>NaN</td>\n",
       "      <td>Aleem Dar</td>\n",
       "      <td>GA Pratapkumar</td>\n",
       "    </tr>\n",
       "    <tr>\n",
       "      <th>3</th>\n",
       "      <td>335985</td>\n",
       "      <td>Mumbai</td>\n",
       "      <td>2008-04-20</td>\n",
       "      <td>MV Boucher</td>\n",
       "      <td>Wankhede Stadium</td>\n",
       "      <td>0</td>\n",
       "      <td>Mumbai Indians</td>\n",
       "      <td>Royal Challengers Bangalore</td>\n",
       "      <td>Mumbai Indians</td>\n",
       "      <td>bat</td>\n",
       "      <td>Royal Challengers Bangalore</td>\n",
       "      <td>wickets</td>\n",
       "      <td>5.0</td>\n",
       "      <td>N</td>\n",
       "      <td>NaN</td>\n",
       "      <td>SJ Davis</td>\n",
       "      <td>DJ Harper</td>\n",
       "    </tr>\n",
       "    <tr>\n",
       "      <th>4</th>\n",
       "      <td>335986</td>\n",
       "      <td>Kolkata</td>\n",
       "      <td>2008-04-20</td>\n",
       "      <td>DJ Hussey</td>\n",
       "      <td>Eden Gardens</td>\n",
       "      <td>0</td>\n",
       "      <td>Kolkata Knight Riders</td>\n",
       "      <td>Deccan Chargers</td>\n",
       "      <td>Deccan Chargers</td>\n",
       "      <td>bat</td>\n",
       "      <td>Kolkata Knight Riders</td>\n",
       "      <td>wickets</td>\n",
       "      <td>5.0</td>\n",
       "      <td>N</td>\n",
       "      <td>NaN</td>\n",
       "      <td>BF Bowden</td>\n",
       "      <td>K Hariharan</td>\n",
       "    </tr>\n",
       "    <tr>\n",
       "      <th>...</th>\n",
       "      <td>...</td>\n",
       "      <td>...</td>\n",
       "      <td>...</td>\n",
       "      <td>...</td>\n",
       "      <td>...</td>\n",
       "      <td>...</td>\n",
       "      <td>...</td>\n",
       "      <td>...</td>\n",
       "      <td>...</td>\n",
       "      <td>...</td>\n",
       "      <td>...</td>\n",
       "      <td>...</td>\n",
       "      <td>...</td>\n",
       "      <td>...</td>\n",
       "      <td>...</td>\n",
       "      <td>...</td>\n",
       "      <td>...</td>\n",
       "    </tr>\n",
       "    <tr>\n",
       "      <th>766</th>\n",
       "      <td>1216502</td>\n",
       "      <td>Sharjah</td>\n",
       "      <td>2020-10-31</td>\n",
       "      <td>Sandeep Sharma</td>\n",
       "      <td>Sharjah Cricket Stadium</td>\n",
       "      <td>0</td>\n",
       "      <td>Royal Challengers Bangalore</td>\n",
       "      <td>Sunrisers Hyderabad</td>\n",
       "      <td>Sunrisers Hyderabad</td>\n",
       "      <td>field</td>\n",
       "      <td>Sunrisers Hyderabad</td>\n",
       "      <td>wickets</td>\n",
       "      <td>5.0</td>\n",
       "      <td>N</td>\n",
       "      <td>NaN</td>\n",
       "      <td>KN Ananthapadmanabhan</td>\n",
       "      <td>K Srinivasan</td>\n",
       "    </tr>\n",
       "    <tr>\n",
       "      <th>768</th>\n",
       "      <td>1216504</td>\n",
       "      <td>Dubai</td>\n",
       "      <td>2020-09-30</td>\n",
       "      <td>Shivam Mavi</td>\n",
       "      <td>Dubai International Cricket Stadium</td>\n",
       "      <td>0</td>\n",
       "      <td>Kolkata Knight Riders</td>\n",
       "      <td>Rajasthan Royals</td>\n",
       "      <td>Rajasthan Royals</td>\n",
       "      <td>field</td>\n",
       "      <td>Kolkata Knight Riders</td>\n",
       "      <td>runs</td>\n",
       "      <td>37.0</td>\n",
       "      <td>N</td>\n",
       "      <td>NaN</td>\n",
       "      <td>KN Ananthapadmanabhan</td>\n",
       "      <td>C Shamshuddin</td>\n",
       "    </tr>\n",
       "    <tr>\n",
       "      <th>771</th>\n",
       "      <td>1216507</td>\n",
       "      <td>Dubai</td>\n",
       "      <td>2020-10-11</td>\n",
       "      <td>R Tewatia</td>\n",
       "      <td>Dubai International Cricket Stadium</td>\n",
       "      <td>0</td>\n",
       "      <td>Sunrisers Hyderabad</td>\n",
       "      <td>Rajasthan Royals</td>\n",
       "      <td>Sunrisers Hyderabad</td>\n",
       "      <td>bat</td>\n",
       "      <td>Rajasthan Royals</td>\n",
       "      <td>wickets</td>\n",
       "      <td>5.0</td>\n",
       "      <td>N</td>\n",
       "      <td>NaN</td>\n",
       "      <td>YC Barde</td>\n",
       "      <td>PR Reiffel</td>\n",
       "    </tr>\n",
       "    <tr>\n",
       "      <th>773</th>\n",
       "      <td>1216509</td>\n",
       "      <td>Sharjah</td>\n",
       "      <td>2020-10-17</td>\n",
       "      <td>S Dhawan</td>\n",
       "      <td>Sharjah Cricket Stadium</td>\n",
       "      <td>0</td>\n",
       "      <td>Chennai Super Kings</td>\n",
       "      <td>Delhi Capitals</td>\n",
       "      <td>Chennai Super Kings</td>\n",
       "      <td>bat</td>\n",
       "      <td>Delhi Capitals</td>\n",
       "      <td>wickets</td>\n",
       "      <td>5.0</td>\n",
       "      <td>N</td>\n",
       "      <td>NaN</td>\n",
       "      <td>KN Ananthapadmanabhan</td>\n",
       "      <td>RK Illingworth</td>\n",
       "    </tr>\n",
       "    <tr>\n",
       "      <th>774</th>\n",
       "      <td>1216510</td>\n",
       "      <td>Dubai</td>\n",
       "      <td>2020-09-24</td>\n",
       "      <td>KL Rahul</td>\n",
       "      <td>Dubai International Cricket Stadium</td>\n",
       "      <td>0</td>\n",
       "      <td>Kings XI Punjab</td>\n",
       "      <td>Royal Challengers Bangalore</td>\n",
       "      <td>Royal Challengers Bangalore</td>\n",
       "      <td>field</td>\n",
       "      <td>Kings XI Punjab</td>\n",
       "      <td>runs</td>\n",
       "      <td>97.0</td>\n",
       "      <td>N</td>\n",
       "      <td>NaN</td>\n",
       "      <td>AK Chaudhary</td>\n",
       "      <td>PR Reiffel</td>\n",
       "    </tr>\n",
       "  </tbody>\n",
       "</table>\n",
       "<p>155 rows × 17 columns</p>\n",
       "</div>"
      ],
      "text/plain": [
       "          id        city        date player_of_match  \\\n",
       "0     335982   Bangalore  2008-04-18     BB McCullum   \n",
       "1     335983  Chandigarh  2008-04-19      MEK Hussey   \n",
       "2     335984       Delhi  2008-04-19     MF Maharoof   \n",
       "3     335985      Mumbai  2008-04-20      MV Boucher   \n",
       "4     335986     Kolkata  2008-04-20       DJ Hussey   \n",
       "..       ...         ...         ...             ...   \n",
       "766  1216502     Sharjah  2020-10-31  Sandeep Sharma   \n",
       "768  1216504       Dubai  2020-09-30     Shivam Mavi   \n",
       "771  1216507       Dubai  2020-10-11       R Tewatia   \n",
       "773  1216509     Sharjah  2020-10-17        S Dhawan   \n",
       "774  1216510       Dubai  2020-09-24        KL Rahul   \n",
       "\n",
       "                                          venue  neutral_venue  \\\n",
       "0                         M Chinnaswamy Stadium              0   \n",
       "1    Punjab Cricket Association Stadium, Mohali              0   \n",
       "2                              Feroz Shah Kotla              0   \n",
       "3                              Wankhede Stadium              0   \n",
       "4                                  Eden Gardens              0   \n",
       "..                                          ...            ...   \n",
       "766                     Sharjah Cricket Stadium              0   \n",
       "768         Dubai International Cricket Stadium              0   \n",
       "771         Dubai International Cricket Stadium              0   \n",
       "773                     Sharjah Cricket Stadium              0   \n",
       "774         Dubai International Cricket Stadium              0   \n",
       "\n",
       "                           team1                        team2  \\\n",
       "0    Royal Challengers Bangalore        Kolkata Knight Riders   \n",
       "1                Kings XI Punjab          Chennai Super Kings   \n",
       "2               Delhi Daredevils             Rajasthan Royals   \n",
       "3                 Mumbai Indians  Royal Challengers Bangalore   \n",
       "4          Kolkata Knight Riders              Deccan Chargers   \n",
       "..                           ...                          ...   \n",
       "766  Royal Challengers Bangalore          Sunrisers Hyderabad   \n",
       "768        Kolkata Knight Riders             Rajasthan Royals   \n",
       "771          Sunrisers Hyderabad             Rajasthan Royals   \n",
       "773          Chennai Super Kings               Delhi Capitals   \n",
       "774              Kings XI Punjab  Royal Challengers Bangalore   \n",
       "\n",
       "                     toss_winner toss_decision                       winner  \\\n",
       "0    Royal Challengers Bangalore         field        Kolkata Knight Riders   \n",
       "1            Chennai Super Kings           bat          Chennai Super Kings   \n",
       "2               Rajasthan Royals           bat             Delhi Daredevils   \n",
       "3                 Mumbai Indians           bat  Royal Challengers Bangalore   \n",
       "4                Deccan Chargers           bat        Kolkata Knight Riders   \n",
       "..                           ...           ...                          ...   \n",
       "766          Sunrisers Hyderabad         field          Sunrisers Hyderabad   \n",
       "768             Rajasthan Royals         field        Kolkata Knight Riders   \n",
       "771          Sunrisers Hyderabad           bat             Rajasthan Royals   \n",
       "773          Chennai Super Kings           bat               Delhi Capitals   \n",
       "774  Royal Challengers Bangalore         field              Kings XI Punjab   \n",
       "\n",
       "      result  result_margin eliminator method                umpire1  \\\n",
       "0       runs          140.0          N    NaN              Asad Rauf   \n",
       "1       runs           33.0          N    NaN              MR Benson   \n",
       "2    wickets            9.0          N    NaN              Aleem Dar   \n",
       "3    wickets            5.0          N    NaN               SJ Davis   \n",
       "4    wickets            5.0          N    NaN              BF Bowden   \n",
       "..       ...            ...        ...    ...                    ...   \n",
       "766  wickets            5.0          N    NaN  KN Ananthapadmanabhan   \n",
       "768     runs           37.0          N    NaN  KN Ananthapadmanabhan   \n",
       "771  wickets            5.0          N    NaN               YC Barde   \n",
       "773  wickets            5.0          N    NaN  KN Ananthapadmanabhan   \n",
       "774     runs           97.0          N    NaN           AK Chaudhary   \n",
       "\n",
       "            umpire2  \n",
       "0       RE Koertzen  \n",
       "1        SL Shastri  \n",
       "2    GA Pratapkumar  \n",
       "3         DJ Harper  \n",
       "4       K Hariharan  \n",
       "..              ...  \n",
       "766    K Srinivasan  \n",
       "768   C Shamshuddin  \n",
       "771      PR Reiffel  \n",
       "773  RK Illingworth  \n",
       "774      PR Reiffel  \n",
       "\n",
       "[155 rows x 17 columns]"
      ]
     },
     "execution_count": 78,
     "metadata": {},
     "output_type": "execute_result"
    }
   ],
   "source": [
    "df.groupby(by = 'city',sort=False).head()"
   ]
  },
  {
   "cell_type": "code",
   "execution_count": 100,
   "id": "2becad02",
   "metadata": {},
   "outputs": [
    {
     "data": {
      "text/html": [
       "<div>\n",
       "<style scoped>\n",
       "    .dataframe tbody tr th:only-of-type {\n",
       "        vertical-align: middle;\n",
       "    }\n",
       "\n",
       "    .dataframe tbody tr th {\n",
       "        vertical-align: top;\n",
       "    }\n",
       "\n",
       "    .dataframe thead th {\n",
       "        text-align: right;\n",
       "    }\n",
       "</style>\n",
       "<table border=\"1\" class=\"dataframe\">\n",
       "  <thead>\n",
       "    <tr style=\"text-align: right;\">\n",
       "      <th></th>\n",
       "      <th>A</th>\n",
       "      <th>value</th>\n",
       "    </tr>\n",
       "  </thead>\n",
       "  <tbody>\n",
       "    <tr>\n",
       "      <th>0</th>\n",
       "      <td>a</td>\n",
       "      <td>1</td>\n",
       "    </tr>\n",
       "    <tr>\n",
       "      <th>1</th>\n",
       "      <td>b</td>\n",
       "      <td>2</td>\n",
       "    </tr>\n",
       "    <tr>\n",
       "      <th>2</th>\n",
       "      <td>c</td>\n",
       "      <td>3</td>\n",
       "    </tr>\n",
       "    <tr>\n",
       "      <th>3</th>\n",
       "      <td>d</td>\n",
       "      <td>5</td>\n",
       "    </tr>\n",
       "  </tbody>\n",
       "</table>\n",
       "</div>"
      ],
      "text/plain": [
       "   A  value\n",
       "0  a      1\n",
       "1  b      2\n",
       "2  c      3\n",
       "3  d      5"
      ]
     },
     "execution_count": 100,
     "metadata": {},
     "output_type": "execute_result"
    }
   ],
   "source": [
    "#merge()\n",
    "df1 = pd.DataFrame({'A': ['a', 'b', 'c', 'd'],'value': [1, 2, 3, 5]})\n",
    "df1\n",
    "\n",
    "#concate()\n",
    "#append()"
   ]
  },
  {
   "cell_type": "code",
   "execution_count": 103,
   "id": "8bd6efa8",
   "metadata": {},
   "outputs": [
    {
     "data": {
      "text/html": [
       "<div>\n",
       "<style scoped>\n",
       "    .dataframe tbody tr th:only-of-type {\n",
       "        vertical-align: middle;\n",
       "    }\n",
       "\n",
       "    .dataframe tbody tr th {\n",
       "        vertical-align: top;\n",
       "    }\n",
       "\n",
       "    .dataframe thead th {\n",
       "        text-align: right;\n",
       "    }\n",
       "</style>\n",
       "<table border=\"1\" class=\"dataframe\">\n",
       "  <thead>\n",
       "    <tr style=\"text-align: right;\">\n",
       "      <th></th>\n",
       "      <th>B</th>\n",
       "      <th>value</th>\n",
       "    </tr>\n",
       "  </thead>\n",
       "  <tbody>\n",
       "    <tr>\n",
       "      <th>0</th>\n",
       "      <td>a</td>\n",
       "      <td>6</td>\n",
       "    </tr>\n",
       "    <tr>\n",
       "      <th>1</th>\n",
       "      <td>b</td>\n",
       "      <td>7</td>\n",
       "    </tr>\n",
       "    <tr>\n",
       "      <th>2</th>\n",
       "      <td>c</td>\n",
       "      <td>8</td>\n",
       "    </tr>\n",
       "    <tr>\n",
       "      <th>3</th>\n",
       "      <td>d</td>\n",
       "      <td>9</td>\n",
       "    </tr>\n",
       "  </tbody>\n",
       "</table>\n",
       "</div>"
      ],
      "text/plain": [
       "   B  value\n",
       "0  a      6\n",
       "1  b      7\n",
       "2  c      8\n",
       "3  d      9"
      ]
     },
     "execution_count": 103,
     "metadata": {},
     "output_type": "execute_result"
    }
   ],
   "source": [
    "df2 = pd.DataFrame({'B': ['a', 'b', 'c', 'd'],'value': [6, 7, 8, 9]})\n",
    "df2"
   ]
  },
  {
   "cell_type": "code",
   "execution_count": 107,
   "id": "870ab29c",
   "metadata": {},
   "outputs": [
    {
     "data": {
      "text/html": [
       "<div>\n",
       "<style scoped>\n",
       "    .dataframe tbody tr th:only-of-type {\n",
       "        vertical-align: middle;\n",
       "    }\n",
       "\n",
       "    .dataframe tbody tr th {\n",
       "        vertical-align: top;\n",
       "    }\n",
       "\n",
       "    .dataframe thead th {\n",
       "        text-align: right;\n",
       "    }\n",
       "</style>\n",
       "<table border=\"1\" class=\"dataframe\">\n",
       "  <thead>\n",
       "    <tr style=\"text-align: right;\">\n",
       "      <th></th>\n",
       "      <th>A</th>\n",
       "      <th>value</th>\n",
       "      <th>B</th>\n",
       "    </tr>\n",
       "  </thead>\n",
       "  <tbody>\n",
       "    <tr>\n",
       "      <th>0</th>\n",
       "      <td>a</td>\n",
       "      <td>1</td>\n",
       "      <td>NaN</td>\n",
       "    </tr>\n",
       "    <tr>\n",
       "      <th>1</th>\n",
       "      <td>b</td>\n",
       "      <td>2</td>\n",
       "      <td>NaN</td>\n",
       "    </tr>\n",
       "    <tr>\n",
       "      <th>2</th>\n",
       "      <td>c</td>\n",
       "      <td>3</td>\n",
       "      <td>NaN</td>\n",
       "    </tr>\n",
       "    <tr>\n",
       "      <th>3</th>\n",
       "      <td>d</td>\n",
       "      <td>5</td>\n",
       "      <td>NaN</td>\n",
       "    </tr>\n",
       "  </tbody>\n",
       "</table>\n",
       "</div>"
      ],
      "text/plain": [
       "   A  value    B\n",
       "0  a      1  NaN\n",
       "1  b      2  NaN\n",
       "2  c      3  NaN\n",
       "3  d      5  NaN"
      ]
     },
     "execution_count": 107,
     "metadata": {},
     "output_type": "execute_result"
    }
   ],
   "source": [
    "pd.merge(df1, df2,how='left')"
   ]
  },
  {
   "cell_type": "code",
   "execution_count": null,
   "id": "3e560b6a",
   "metadata": {},
   "outputs": [],
   "source": []
  }
 ],
 "metadata": {
  "kernelspec": {
   "display_name": "Python 3 (ipykernel)",
   "language": "python",
   "name": "python3"
  },
  "language_info": {
   "codemirror_mode": {
    "name": "ipython",
    "version": 3
   },
   "file_extension": ".py",
   "mimetype": "text/x-python",
   "name": "python",
   "nbconvert_exporter": "python",
   "pygments_lexer": "ipython3",
   "version": "3.9.7"
  }
 },
 "nbformat": 4,
 "nbformat_minor": 5
}
